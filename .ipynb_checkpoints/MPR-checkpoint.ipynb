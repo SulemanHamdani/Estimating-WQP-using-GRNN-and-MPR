{
 "cells": [
  {
   "cell_type": "code",
   "execution_count": 43,
   "id": "9f514109",
   "metadata": {},
   "outputs": [
    {
     "ename": "ModuleNotFoundError",
     "evalue": "No module named 'keras_ex.gkernel'",
     "output_type": "error",
     "traceback": [
      "\u001b[1;31m---------------------------------------------------------------------------\u001b[0m",
      "\u001b[1;31mModuleNotFoundError\u001b[0m                       Traceback (most recent call last)",
      "\u001b[1;32m~\\AppData\\Local\\Temp/ipykernel_19740/895246466.py\u001b[0m in \u001b[0;36m<module>\u001b[1;34m\u001b[0m\n\u001b[0;32m     10\u001b[0m \u001b[1;32mfrom\u001b[0m \u001b[0mpyGRNN\u001b[0m \u001b[1;32mimport\u001b[0m \u001b[0mGRNN\u001b[0m\u001b[1;33m\u001b[0m\u001b[1;33m\u001b[0m\u001b[0m\n\u001b[0;32m     11\u001b[0m \u001b[1;32mfrom\u001b[0m \u001b[0mkeras\u001b[0m \u001b[1;32mimport\u001b[0m \u001b[0mbackend\u001b[0m \u001b[1;32mas\u001b[0m \u001b[0mK\u001b[0m\u001b[1;33m\u001b[0m\u001b[1;33m\u001b[0m\u001b[0m\n\u001b[1;32m---> 12\u001b[1;33m \u001b[1;32mfrom\u001b[0m \u001b[0mkeras_ex\u001b[0m\u001b[1;33m.\u001b[0m\u001b[0mgkernel\u001b[0m \u001b[1;32mimport\u001b[0m \u001b[0mGaussianKernel\u001b[0m\u001b[1;33m,\u001b[0m \u001b[0mGaussianKernel2\u001b[0m\u001b[1;33m,\u001b[0m \u001b[0mGaussianKernel3\u001b[0m\u001b[1;33m\u001b[0m\u001b[1;33m\u001b[0m\u001b[0m\n\u001b[0m",
      "\u001b[1;31mModuleNotFoundError\u001b[0m: No module named 'keras_ex.gkernel'"
     ]
    }
   ],
   "source": [
    "import pandas as pd\n",
    "import numpy as np\n",
    "import matplotlib.pyplot as plt\n",
    "import sklearn\n",
    "from sklearn.model_selection import train_test_split\n",
    "import tensorflow as tf\n",
    "from tensorflow.keras.models import Sequential\n",
    "from tensorflow.keras.layers import Dense\n",
    "from sklearn.metrics import mean_squared_error\n",
    "from pyGRNN import GRNN\n",
    "from keras import backend as K\n",
    "from keras_ex.gkernel import GaussianKernel, GaussianKernel2, GaussianKernel3"
   ]
  },
  {
   "cell_type": "code",
   "execution_count": 2,
   "id": "60d27503",
   "metadata": {},
   "outputs": [],
   "source": [
    "data = pd.read_csv('final_data.csv')\n",
    "data=data.drop(data.columns[0], axis=1)"
   ]
  },
  {
   "cell_type": "code",
   "execution_count": 3,
   "id": "8f8efd26",
   "metadata": {},
   "outputs": [
    {
     "data": {
      "text/html": [
       "<div>\n",
       "<style scoped>\n",
       "    .dataframe tbody tr th:only-of-type {\n",
       "        vertical-align: middle;\n",
       "    }\n",
       "\n",
       "    .dataframe tbody tr th {\n",
       "        vertical-align: top;\n",
       "    }\n",
       "\n",
       "    .dataframe thead th {\n",
       "        text-align: right;\n",
       "    }\n",
       "</style>\n",
       "<table border=\"1\" class=\"dataframe\">\n",
       "  <thead>\n",
       "    <tr style=\"text-align: right;\">\n",
       "      <th></th>\n",
       "      <th>Station</th>\n",
       "      <th>Dates</th>\n",
       "      <th>pH</th>\n",
       "      <th>Dissolved Oxygen (mg/L)</th>\n",
       "      <th>Water Temperature (°C)</th>\n",
       "      <th>Suspended solids (mg/L)</th>\n",
       "      <th>Conductivity (μS/cm)</th>\n",
       "      <th>5-Day Biochemical Oxygen Demand (mg/L)</th>\n",
       "      <th>Ammonia-Nitrogen (mg/L)</th>\n",
       "      <th>Total Phosphorus (mg/L)</th>\n",
       "      <th>Nitrate-Nitrogen (mg/L)</th>\n",
       "      <th>Nitrite-Nitrogen (mg/L)</th>\n",
       "    </tr>\n",
       "  </thead>\n",
       "  <tbody>\n",
       "    <tr>\n",
       "      <th>0</th>\n",
       "      <td>AN1</td>\n",
       "      <td>1/22/2018</td>\n",
       "      <td>8.1</td>\n",
       "      <td>8.5</td>\n",
       "      <td>18.4</td>\n",
       "      <td>4.2</td>\n",
       "      <td>25630</td>\n",
       "      <td>1.4</td>\n",
       "      <td>0.390</td>\n",
       "      <td>0.09</td>\n",
       "      <td>0.63</td>\n",
       "      <td>0.030</td>\n",
       "    </tr>\n",
       "    <tr>\n",
       "      <th>1</th>\n",
       "      <td>AN1</td>\n",
       "      <td>2/1/2018</td>\n",
       "      <td>8.3</td>\n",
       "      <td>10.2</td>\n",
       "      <td>11.6</td>\n",
       "      <td>12.0</td>\n",
       "      <td>12591</td>\n",
       "      <td>2.5</td>\n",
       "      <td>0.390</td>\n",
       "      <td>0.13</td>\n",
       "      <td>1.10</td>\n",
       "      <td>0.024</td>\n",
       "    </tr>\n",
       "    <tr>\n",
       "      <th>2</th>\n",
       "      <td>AN1</td>\n",
       "      <td>3/19/2018</td>\n",
       "      <td>8.3</td>\n",
       "      <td>8.7</td>\n",
       "      <td>21.8</td>\n",
       "      <td>1.2</td>\n",
       "      <td>3226</td>\n",
       "      <td>1.9</td>\n",
       "      <td>0.940</td>\n",
       "      <td>0.22</td>\n",
       "      <td>1.20</td>\n",
       "      <td>0.120</td>\n",
       "    </tr>\n",
       "    <tr>\n",
       "      <th>3</th>\n",
       "      <td>AN1</td>\n",
       "      <td>4/26/2018</td>\n",
       "      <td>8.1</td>\n",
       "      <td>8.0</td>\n",
       "      <td>22.1</td>\n",
       "      <td>2.3</td>\n",
       "      <td>22720</td>\n",
       "      <td>0.4</td>\n",
       "      <td>0.065</td>\n",
       "      <td>0.31</td>\n",
       "      <td>1.30</td>\n",
       "      <td>0.014</td>\n",
       "    </tr>\n",
       "    <tr>\n",
       "      <th>4</th>\n",
       "      <td>AN1</td>\n",
       "      <td>5/11/2018</td>\n",
       "      <td>8.3</td>\n",
       "      <td>8.0</td>\n",
       "      <td>23.6</td>\n",
       "      <td>5.3</td>\n",
       "      <td>18069</td>\n",
       "      <td>1.1</td>\n",
       "      <td>0.480</td>\n",
       "      <td>0.09</td>\n",
       "      <td>1.10</td>\n",
       "      <td>0.046</td>\n",
       "    </tr>\n",
       "  </tbody>\n",
       "</table>\n",
       "</div>"
      ],
      "text/plain": [
       "  Station      Dates   pH  Dissolved Oxygen (mg/L)  Water Temperature (°C)  \\\n",
       "0     AN1  1/22/2018  8.1                      8.5                    18.4   \n",
       "1     AN1   2/1/2018  8.3                     10.2                    11.6   \n",
       "2     AN1  3/19/2018  8.3                      8.7                    21.8   \n",
       "3     AN1  4/26/2018  8.1                      8.0                    22.1   \n",
       "4     AN1  5/11/2018  8.3                      8.0                    23.6   \n",
       "\n",
       "   Suspended solids (mg/L)  Conductivity (μS/cm)  \\\n",
       "0                      4.2                 25630   \n",
       "1                     12.0                 12591   \n",
       "2                      1.2                  3226   \n",
       "3                      2.3                 22720   \n",
       "4                      5.3                 18069   \n",
       "\n",
       "   5-Day Biochemical Oxygen Demand (mg/L)  Ammonia-Nitrogen (mg/L)  \\\n",
       "0                                     1.4                    0.390   \n",
       "1                                     2.5                    0.390   \n",
       "2                                     1.9                    0.940   \n",
       "3                                     0.4                    0.065   \n",
       "4                                     1.1                    0.480   \n",
       "\n",
       "   Total Phosphorus (mg/L)  Nitrate-Nitrogen (mg/L)  Nitrite-Nitrogen (mg/L)  \n",
       "0                     0.09                     0.63                    0.030  \n",
       "1                     0.13                     1.10                    0.024  \n",
       "2                     0.22                     1.20                    0.120  \n",
       "3                     0.31                     1.30                    0.014  \n",
       "4                     0.09                     1.10                    0.046  "
      ]
     },
     "execution_count": 3,
     "metadata": {},
     "output_type": "execute_result"
    }
   ],
   "source": [
    "data.head()"
   ]
  },
  {
   "cell_type": "code",
   "execution_count": 4,
   "id": "6d361379",
   "metadata": {},
   "outputs": [],
   "source": [
    "X = data[['pH', 'Dissolved Oxygen (mg/L)', 'Water Temperature (°C)', 'Suspended solids (mg/L)', 'Conductivity (μS/cm)']]"
   ]
  },
  {
   "cell_type": "code",
   "execution_count": 5,
   "id": "70bd4fa9",
   "metadata": {},
   "outputs": [],
   "source": [
    "# y = data[['5-Day Biochemical Oxygen Demand (mg/L)']]"
   ]
  },
  {
   "cell_type": "code",
   "execution_count": 26,
   "id": "0c42b257",
   "metadata": {},
   "outputs": [],
   "source": [
    "y = data[['5-Day Biochemical Oxygen Demand (mg/L)', 'Ammonia-Nitrogen (mg/L)', 'Total Phosphorus (mg/L)', 'Nitrate-Nitrogen (mg/L)', 'Nitrite-Nitrogen (mg/L)']]"
   ]
  },
  {
   "cell_type": "code",
   "execution_count": 7,
   "id": "1f471058",
   "metadata": {},
   "outputs": [
    {
     "data": {
      "text/html": [
       "<div>\n",
       "<style scoped>\n",
       "    .dataframe tbody tr th:only-of-type {\n",
       "        vertical-align: middle;\n",
       "    }\n",
       "\n",
       "    .dataframe tbody tr th {\n",
       "        vertical-align: top;\n",
       "    }\n",
       "\n",
       "    .dataframe thead th {\n",
       "        text-align: right;\n",
       "    }\n",
       "</style>\n",
       "<table border=\"1\" class=\"dataframe\">\n",
       "  <thead>\n",
       "    <tr style=\"text-align: right;\">\n",
       "      <th></th>\n",
       "      <th>pH</th>\n",
       "      <th>Dissolved Oxygen (mg/L)</th>\n",
       "      <th>Water Temperature (°C)</th>\n",
       "      <th>Suspended solids (mg/L)</th>\n",
       "      <th>Conductivity (μS/cm)</th>\n",
       "    </tr>\n",
       "  </thead>\n",
       "  <tbody>\n",
       "    <tr>\n",
       "      <th>0</th>\n",
       "      <td>8.1</td>\n",
       "      <td>8.5</td>\n",
       "      <td>18.4</td>\n",
       "      <td>4.2</td>\n",
       "      <td>25630</td>\n",
       "    </tr>\n",
       "    <tr>\n",
       "      <th>1</th>\n",
       "      <td>8.3</td>\n",
       "      <td>10.2</td>\n",
       "      <td>11.6</td>\n",
       "      <td>12.0</td>\n",
       "      <td>12591</td>\n",
       "    </tr>\n",
       "    <tr>\n",
       "      <th>2</th>\n",
       "      <td>8.3</td>\n",
       "      <td>8.7</td>\n",
       "      <td>21.8</td>\n",
       "      <td>1.2</td>\n",
       "      <td>3226</td>\n",
       "    </tr>\n",
       "    <tr>\n",
       "      <th>3</th>\n",
       "      <td>8.1</td>\n",
       "      <td>8.0</td>\n",
       "      <td>22.1</td>\n",
       "      <td>2.3</td>\n",
       "      <td>22720</td>\n",
       "    </tr>\n",
       "    <tr>\n",
       "      <th>4</th>\n",
       "      <td>8.3</td>\n",
       "      <td>8.0</td>\n",
       "      <td>23.6</td>\n",
       "      <td>5.3</td>\n",
       "      <td>18069</td>\n",
       "    </tr>\n",
       "  </tbody>\n",
       "</table>\n",
       "</div>"
      ],
      "text/plain": [
       "    pH  Dissolved Oxygen (mg/L)  Water Temperature (°C)  \\\n",
       "0  8.1                      8.5                    18.4   \n",
       "1  8.3                     10.2                    11.6   \n",
       "2  8.3                      8.7                    21.8   \n",
       "3  8.1                      8.0                    22.1   \n",
       "4  8.3                      8.0                    23.6   \n",
       "\n",
       "   Suspended solids (mg/L)  Conductivity (μS/cm)  \n",
       "0                      4.2                 25630  \n",
       "1                     12.0                 12591  \n",
       "2                      1.2                  3226  \n",
       "3                      2.3                 22720  \n",
       "4                      5.3                 18069  "
      ]
     },
     "execution_count": 7,
     "metadata": {},
     "output_type": "execute_result"
    }
   ],
   "source": [
    "X.head()"
   ]
  },
  {
   "cell_type": "code",
   "execution_count": 8,
   "id": "24abc09a",
   "metadata": {},
   "outputs": [
    {
     "data": {
      "text/html": [
       "<div>\n",
       "<style scoped>\n",
       "    .dataframe tbody tr th:only-of-type {\n",
       "        vertical-align: middle;\n",
       "    }\n",
       "\n",
       "    .dataframe tbody tr th {\n",
       "        vertical-align: top;\n",
       "    }\n",
       "\n",
       "    .dataframe thead th {\n",
       "        text-align: right;\n",
       "    }\n",
       "</style>\n",
       "<table border=\"1\" class=\"dataframe\">\n",
       "  <thead>\n",
       "    <tr style=\"text-align: right;\">\n",
       "      <th></th>\n",
       "      <th>5-Day Biochemical Oxygen Demand (mg/L)</th>\n",
       "    </tr>\n",
       "  </thead>\n",
       "  <tbody>\n",
       "    <tr>\n",
       "      <th>0</th>\n",
       "      <td>1.4</td>\n",
       "    </tr>\n",
       "    <tr>\n",
       "      <th>1</th>\n",
       "      <td>2.5</td>\n",
       "    </tr>\n",
       "    <tr>\n",
       "      <th>2</th>\n",
       "      <td>1.9</td>\n",
       "    </tr>\n",
       "    <tr>\n",
       "      <th>3</th>\n",
       "      <td>0.4</td>\n",
       "    </tr>\n",
       "    <tr>\n",
       "      <th>4</th>\n",
       "      <td>1.1</td>\n",
       "    </tr>\n",
       "  </tbody>\n",
       "</table>\n",
       "</div>"
      ],
      "text/plain": [
       "   5-Day Biochemical Oxygen Demand (mg/L)\n",
       "0                                     1.4\n",
       "1                                     2.5\n",
       "2                                     1.9\n",
       "3                                     0.4\n",
       "4                                     1.1"
      ]
     },
     "execution_count": 8,
     "metadata": {},
     "output_type": "execute_result"
    }
   ],
   "source": [
    "y.head()"
   ]
  },
  {
   "cell_type": "code",
   "execution_count": 9,
   "id": "b819dfc6",
   "metadata": {},
   "outputs": [
    {
     "data": {
      "image/png": "[encoded data removed]",
      "text/plain": [
       "<Figure size 864x720 with 2 Axes>"
      ]
     },
     "metadata": {
      "needs_background": "light"
     },
     "output_type": "display_data"
    }
   ],
   "source": [
    "import seaborn as sns\n",
    "#Using Pearson Correlation\n",
    "plt.figure(figsize=(12,10))\n",
    "cor = X.corr()\n",
    "sns.heatmap(cor, annot=True, cmap=plt.cm.CMRmap_r)\n",
    "plt.show()"
   ]
  },
  {
   "cell_type": "code",
   "execution_count": 10,
   "id": "7d9a528a",
   "metadata": {},
   "outputs": [
    {
     "data": {
      "image/png": "[encoded data removed]",
      "text/plain": [
       "<Figure size 864x720 with 2 Axes>"
      ]
     },
     "metadata": {
      "needs_background": "light"
     },
     "output_type": "display_data"
    }
   ],
   "source": [
    "plt.figure(figsize=(12,10))\n",
    "cor = data.corr()\n",
    "sns.heatmap(cor, annot=True, cmap=plt.cm.CMRmap_r)\n",
    "plt.show()"
   ]
  },
  {
   "cell_type": "code",
   "execution_count": 11,
   "id": "1385489d",
   "metadata": {},
   "outputs": [
    {
     "data": {
      "text/html": [
       "<div>\n",
       "<style scoped>\n",
       "    .dataframe tbody tr th:only-of-type {\n",
       "        vertical-align: middle;\n",
       "    }\n",
       "\n",
       "    .dataframe tbody tr th {\n",
       "        vertical-align: top;\n",
       "    }\n",
       "\n",
       "    .dataframe thead th {\n",
       "        text-align: right;\n",
       "    }\n",
       "</style>\n",
       "<table border=\"1\" class=\"dataframe\">\n",
       "  <thead>\n",
       "    <tr style=\"text-align: right;\">\n",
       "      <th></th>\n",
       "      <th>pH</th>\n",
       "      <th>Dissolved Oxygen (mg/L)</th>\n",
       "      <th>Water Temperature (°C)</th>\n",
       "      <th>Suspended solids (mg/L)</th>\n",
       "      <th>Conductivity (μS/cm)</th>\n",
       "      <th>5-Day Biochemical Oxygen Demand (mg/L)</th>\n",
       "      <th>Ammonia-Nitrogen (mg/L)</th>\n",
       "      <th>Total Phosphorus (mg/L)</th>\n",
       "      <th>Nitrate-Nitrogen (mg/L)</th>\n",
       "      <th>Nitrite-Nitrogen (mg/L)</th>\n",
       "    </tr>\n",
       "  </thead>\n",
       "  <tbody>\n",
       "    <tr>\n",
       "      <th>count</th>\n",
       "      <td>5880.000000</td>\n",
       "      <td>5880.000000</td>\n",
       "      <td>5880.000000</td>\n",
       "      <td>5880.000000</td>\n",
       "      <td>5880.000000</td>\n",
       "      <td>5880.000000</td>\n",
       "      <td>5880.000000</td>\n",
       "      <td>5880.000000</td>\n",
       "      <td>5880.000000</td>\n",
       "      <td>5880.000000</td>\n",
       "    </tr>\n",
       "    <tr>\n",
       "      <th>mean</th>\n",
       "      <td>7.519813</td>\n",
       "      <td>7.694728</td>\n",
       "      <td>24.018520</td>\n",
       "      <td>13.784286</td>\n",
       "      <td>5153.211395</td>\n",
       "      <td>6.049405</td>\n",
       "      <td>1.277180</td>\n",
       "      <td>0.385088</td>\n",
       "      <td>1.067626</td>\n",
       "      <td>0.095653</td>\n",
       "    </tr>\n",
       "    <tr>\n",
       "      <th>std</th>\n",
       "      <td>0.498319</td>\n",
       "      <td>1.667986</td>\n",
       "      <td>4.454172</td>\n",
       "      <td>81.783449</td>\n",
       "      <td>9778.394016</td>\n",
       "      <td>17.343529</td>\n",
       "      <td>3.087938</td>\n",
       "      <td>0.644957</td>\n",
       "      <td>1.428873</td>\n",
       "      <td>0.203073</td>\n",
       "    </tr>\n",
       "    <tr>\n",
       "      <th>min</th>\n",
       "      <td>5.500000</td>\n",
       "      <td>1.300000</td>\n",
       "      <td>8.900000</td>\n",
       "      <td>0.500000</td>\n",
       "      <td>2.000000</td>\n",
       "      <td>0.100000</td>\n",
       "      <td>0.005000</td>\n",
       "      <td>0.020000</td>\n",
       "      <td>0.002000</td>\n",
       "      <td>0.002000</td>\n",
       "    </tr>\n",
       "    <tr>\n",
       "      <th>25%</th>\n",
       "      <td>7.200000</td>\n",
       "      <td>6.900000</td>\n",
       "      <td>20.700000</td>\n",
       "      <td>2.000000</td>\n",
       "      <td>134.000000</td>\n",
       "      <td>0.700000</td>\n",
       "      <td>0.048000</td>\n",
       "      <td>0.050000</td>\n",
       "      <td>0.300000</td>\n",
       "      <td>0.006000</td>\n",
       "    </tr>\n",
       "    <tr>\n",
       "      <th>50%</th>\n",
       "      <td>7.500000</td>\n",
       "      <td>8.000000</td>\n",
       "      <td>24.600000</td>\n",
       "      <td>4.200000</td>\n",
       "      <td>299.000000</td>\n",
       "      <td>1.700000</td>\n",
       "      <td>0.200000</td>\n",
       "      <td>0.100000</td>\n",
       "      <td>0.650000</td>\n",
       "      <td>0.022000</td>\n",
       "    </tr>\n",
       "    <tr>\n",
       "      <th>75%</th>\n",
       "      <td>7.700000</td>\n",
       "      <td>8.700000</td>\n",
       "      <td>27.600000</td>\n",
       "      <td>8.900000</td>\n",
       "      <td>4264.000000</td>\n",
       "      <td>4.500000</td>\n",
       "      <td>0.880000</td>\n",
       "      <td>0.380000</td>\n",
       "      <td>1.200000</td>\n",
       "      <td>0.092000</td>\n",
       "    </tr>\n",
       "    <tr>\n",
       "      <th>max</th>\n",
       "      <td>11.400000</td>\n",
       "      <td>14.100000</td>\n",
       "      <td>34.500000</td>\n",
       "      <td>4900.000000</td>\n",
       "      <td>56188.000000</td>\n",
       "      <td>280.000000</td>\n",
       "      <td>61.000000</td>\n",
       "      <td>6.900000</td>\n",
       "      <td>40.000000</td>\n",
       "      <td>2.300000</td>\n",
       "    </tr>\n",
       "  </tbody>\n",
       "</table>\n",
       "</div>"
      ],
      "text/plain": [
       "                pH  Dissolved Oxygen (mg/L)  Water Temperature (°C)  \\\n",
       "count  5880.000000              5880.000000             5880.000000   \n",
       "mean      7.519813                 7.694728               24.018520   \n",
       "std       0.498319                 1.667986                4.454172   \n",
       "min       5.500000                 1.300000                8.900000   \n",
       "25%       7.200000                 6.900000               20.700000   \n",
       "50%       7.500000                 8.000000               24.600000   \n",
       "75%       7.700000                 8.700000               27.600000   \n",
       "max      11.400000                14.100000               34.500000   \n",
       "\n",
       "       Suspended solids (mg/L)  Conductivity (μS/cm)  \\\n",
       "count              5880.000000           5880.000000   \n",
       "mean                 13.784286           5153.211395   \n",
       "std                  81.783449           9778.394016   \n",
       "min                   0.500000              2.000000   \n",
       "25%                   2.000000            134.000000   \n",
       "50%                   4.200000            299.000000   \n",
       "75%                   8.900000           4264.000000   \n",
       "max                4900.000000          56188.000000   \n",
       "\n",
       "       5-Day Biochemical Oxygen Demand (mg/L)  Ammonia-Nitrogen (mg/L)  \\\n",
       "count                             5880.000000              5880.000000   \n",
       "mean                                 6.049405                 1.277180   \n",
       "std                                 17.343529                 3.087938   \n",
       "min                                  0.100000                 0.005000   \n",
       "25%                                  0.700000                 0.048000   \n",
       "50%                                  1.700000                 0.200000   \n",
       "75%                                  4.500000                 0.880000   \n",
       "max                                280.000000                61.000000   \n",
       "\n",
       "       Total Phosphorus (mg/L)  Nitrate-Nitrogen (mg/L)  \\\n",
       "count              5880.000000              5880.000000   \n",
       "mean                  0.385088                 1.067626   \n",
       "std                   0.644957                 1.428873   \n",
       "min                   0.020000                 0.002000   \n",
       "25%                   0.050000                 0.300000   \n",
       "50%                   0.100000                 0.650000   \n",
       "75%                   0.380000                 1.200000   \n",
       "max                   6.900000                40.000000   \n",
       "\n",
       "       Nitrite-Nitrogen (mg/L)  \n",
       "count              5880.000000  \n",
       "mean                  0.095653  \n",
       "std                   0.203073  \n",
       "min                   0.002000  \n",
       "25%                   0.006000  \n",
       "50%                   0.022000  \n",
       "75%                   0.092000  \n",
       "max                   2.300000  "
      ]
     },
     "execution_count": 11,
     "metadata": {},
     "output_type": "execute_result"
    }
   ],
   "source": [
    "data.describe()"
   ]
  },
  {
   "cell_type": "code",
   "execution_count": 12,
   "id": "e3ccb4ed",
   "metadata": {},
   "outputs": [],
   "source": [
    "# pd.plotting.scatter_matrix(data, alpha=0.2, figsize=(20,20))\n",
    "# plt.show()"
   ]
  },
  {
   "cell_type": "markdown",
   "id": "74527b53",
   "metadata": {},
   "source": [
    "# Data Split"
   ]
  },
  {
   "cell_type": "code",
   "execution_count": 27,
   "id": "198bb003",
   "metadata": {},
   "outputs": [
    {
     "data": {
      "text/plain": [
       "((5292, 5), (588, 5), (5292, 5))"
      ]
     },
     "execution_count": 27,
     "metadata": {},
     "output_type": "execute_result"
    }
   ],
   "source": [
    "X_train, X_test, y_train, y_test = train_test_split(X, y, test_size=0.1, random_state=42)\n",
    "X_train.shape, X_test.shape, y_train.shape"
   ]
  },
  {
   "cell_type": "markdown",
   "id": "f1398714",
   "metadata": {},
   "source": [
    "## Standardzing Data"
   ]
  },
  {
   "cell_type": "markdown",
   "id": "6fa18214",
   "metadata": {},
   "source": [
    "### Standardizing Training Data"
   ]
  },
  {
   "cell_type": "code",
   "execution_count": 28,
   "id": "b03d0dde",
   "metadata": {},
   "outputs": [],
   "source": [
    "X_train_scaled_array = sklearn.preprocessing.scale(X_train, axis=1, with_mean=True, with_std=True, copy=True)\n",
    "X_train_scaled = pd.DataFrame(X_train_scaled_array) \n",
    "X_train_scaled.columns = ['pH', 'Dissolved Oxygen (mg/L)', 'Water Temperature (°C)', 'Suspended solids (mg/L)', 'Conductivity (μS/cm)']"
   ]
  },
  {
   "cell_type": "code",
   "execution_count": 29,
   "id": "a028f56d",
   "metadata": {},
   "outputs": [],
   "source": [
    "X_train_scaled_array = sklearn.preprocessing.scale(X_train, axis=1, with_mean=True, with_std=True, copy=True)"
   ]
  },
  {
   "cell_type": "code",
   "execution_count": 30,
   "id": "bd8b46dd",
   "metadata": {},
   "outputs": [
    {
     "data": {
      "text/html": [
       "<div>\n",
       "<style scoped>\n",
       "    .dataframe tbody tr th:only-of-type {\n",
       "        vertical-align: middle;\n",
       "    }\n",
       "\n",
       "    .dataframe tbody tr th {\n",
       "        vertical-align: top;\n",
       "    }\n",
       "\n",
       "    .dataframe thead th {\n",
       "        text-align: right;\n",
       "    }\n",
       "</style>\n",
       "<table border=\"1\" class=\"dataframe\">\n",
       "  <thead>\n",
       "    <tr style=\"text-align: right;\">\n",
       "      <th></th>\n",
       "      <th>pH</th>\n",
       "      <th>Dissolved Oxygen (mg/L)</th>\n",
       "      <th>Water Temperature (°C)</th>\n",
       "      <th>Suspended solids (mg/L)</th>\n",
       "      <th>Conductivity (μS/cm)</th>\n",
       "    </tr>\n",
       "  </thead>\n",
       "  <tbody>\n",
       "    <tr>\n",
       "      <th>0</th>\n",
       "      <td>-0.500461</td>\n",
       "      <td>-0.500574</td>\n",
       "      <td>-0.498479</td>\n",
       "      <td>-0.500486</td>\n",
       "      <td>1.999999</td>\n",
       "    </tr>\n",
       "    <tr>\n",
       "      <th>1</th>\n",
       "      <td>-0.500607</td>\n",
       "      <td>-0.500731</td>\n",
       "      <td>-0.498272</td>\n",
       "      <td>-0.500390</td>\n",
       "      <td>1.999999</td>\n",
       "    </tr>\n",
       "    <tr>\n",
       "      <th>2</th>\n",
       "      <td>-0.559226</td>\n",
       "      <td>-0.554916</td>\n",
       "      <td>-0.316397</td>\n",
       "      <td>-0.560663</td>\n",
       "      <td>1.991202</td>\n",
       "    </tr>\n",
       "    <tr>\n",
       "      <th>3</th>\n",
       "      <td>-0.537484</td>\n",
       "      <td>-0.526856</td>\n",
       "      <td>-0.317328</td>\n",
       "      <td>-0.608845</td>\n",
       "      <td>1.990513</td>\n",
       "    </tr>\n",
       "    <tr>\n",
       "      <th>4</th>\n",
       "      <td>-0.599334</td>\n",
       "      <td>-0.592397</td>\n",
       "      <td>-0.067518</td>\n",
       "      <td>-0.691824</td>\n",
       "      <td>1.951073</td>\n",
       "    </tr>\n",
       "  </tbody>\n",
       "</table>\n",
       "</div>"
      ],
      "text/plain": [
       "         pH  Dissolved Oxygen (mg/L)  Water Temperature (°C)  \\\n",
       "0 -0.500461                -0.500574               -0.498479   \n",
       "1 -0.500607                -0.500731               -0.498272   \n",
       "2 -0.559226                -0.554916               -0.316397   \n",
       "3 -0.537484                -0.526856               -0.317328   \n",
       "4 -0.599334                -0.592397               -0.067518   \n",
       "\n",
       "   Suspended solids (mg/L)  Conductivity (μS/cm)  \n",
       "0                -0.500486              1.999999  \n",
       "1                -0.500390              1.999999  \n",
       "2                -0.560663              1.991202  \n",
       "3                -0.608845              1.990513  \n",
       "4                -0.691824              1.951073  "
      ]
     },
     "execution_count": 30,
     "metadata": {},
     "output_type": "execute_result"
    }
   ],
   "source": [
    "X_train_scaled.head()"
   ]
  },
  {
   "cell_type": "markdown",
   "id": "7ad8c5a3",
   "metadata": {},
   "source": [
    "### Standardizing Testing Data"
   ]
  },
  {
   "cell_type": "code",
   "execution_count": 31,
   "id": "c5efffdc",
   "metadata": {},
   "outputs": [],
   "source": [
    "X_test_scaled_array = sklearn.preprocessing.scale(X_test, axis=1, with_mean=True, with_std=True, copy=True)\n",
    "X_test_scaled = pd.DataFrame(X_test_scaled_array) \n",
    "X_test_scaled.columns = ['pH', 'Dissolved Oxygen (mg/L)', 'Water Temperature (°C)', 'Suspended solids (mg/L)', 'Conductivity (μS/cm)']"
   ]
  },
  {
   "cell_type": "code",
   "execution_count": 32,
   "id": "820f6410",
   "metadata": {},
   "outputs": [
    {
     "data": {
      "text/html": [
       "<div>\n",
       "<style scoped>\n",
       "    .dataframe tbody tr th:only-of-type {\n",
       "        vertical-align: middle;\n",
       "    }\n",
       "\n",
       "    .dataframe tbody tr th {\n",
       "        vertical-align: top;\n",
       "    }\n",
       "\n",
       "    .dataframe thead th {\n",
       "        text-align: right;\n",
       "    }\n",
       "</style>\n",
       "<table border=\"1\" class=\"dataframe\">\n",
       "  <thead>\n",
       "    <tr style=\"text-align: right;\">\n",
       "      <th></th>\n",
       "      <th>pH</th>\n",
       "      <th>Dissolved Oxygen (mg/L)</th>\n",
       "      <th>Water Temperature (°C)</th>\n",
       "      <th>Suspended solids (mg/L)</th>\n",
       "      <th>Conductivity (μS/cm)</th>\n",
       "    </tr>\n",
       "  </thead>\n",
       "  <tbody>\n",
       "    <tr>\n",
       "      <th>0</th>\n",
       "      <td>-0.603754</td>\n",
       "      <td>-0.591698</td>\n",
       "      <td>-0.092588</td>\n",
       "      <td>-0.668855</td>\n",
       "      <td>1.956894</td>\n",
       "    </tr>\n",
       "    <tr>\n",
       "      <th>1</th>\n",
       "      <td>-0.501202</td>\n",
       "      <td>-0.501119</td>\n",
       "      <td>-0.495525</td>\n",
       "      <td>-0.502149</td>\n",
       "      <td>1.999995</td>\n",
       "    </tr>\n",
       "    <tr>\n",
       "      <th>2</th>\n",
       "      <td>-0.548472</td>\n",
       "      <td>-0.548472</td>\n",
       "      <td>-0.276618</td>\n",
       "      <td>-0.612932</td>\n",
       "      <td>1.986493</td>\n",
       "    </tr>\n",
       "    <tr>\n",
       "      <th>3</th>\n",
       "      <td>-0.502900</td>\n",
       "      <td>-0.501804</td>\n",
       "      <td>-0.486567</td>\n",
       "      <td>-0.508676</td>\n",
       "      <td>1.999947</td>\n",
       "    </tr>\n",
       "    <tr>\n",
       "      <th>4</th>\n",
       "      <td>-0.500058</td>\n",
       "      <td>-0.500173</td>\n",
       "      <td>-0.499344</td>\n",
       "      <td>-0.500426</td>\n",
       "      <td>2.000000</td>\n",
       "    </tr>\n",
       "  </tbody>\n",
       "</table>\n",
       "</div>"
      ],
      "text/plain": [
       "         pH  Dissolved Oxygen (mg/L)  Water Temperature (°C)  \\\n",
       "0 -0.603754                -0.591698               -0.092588   \n",
       "1 -0.501202                -0.501119               -0.495525   \n",
       "2 -0.548472                -0.548472               -0.276618   \n",
       "3 -0.502900                -0.501804               -0.486567   \n",
       "4 -0.500058                -0.500173               -0.499344   \n",
       "\n",
       "   Suspended solids (mg/L)  Conductivity (μS/cm)  \n",
       "0                -0.668855              1.956894  \n",
       "1                -0.502149              1.999995  \n",
       "2                -0.612932              1.986493  \n",
       "3                -0.508676              1.999947  \n",
       "4                -0.500426              2.000000  "
      ]
     },
     "execution_count": 32,
     "metadata": {},
     "output_type": "execute_result"
    }
   ],
   "source": [
    "X_test_scaled.head()"
   ]
  },
  {
   "cell_type": "markdown",
   "id": "66e60d64",
   "metadata": {},
   "source": [
    "# GRNN"
   ]
  },
  {
   "cell_type": "markdown",
   "id": "02d23938",
   "metadata": {},
   "source": [
    "As mentioned in the research paper, The GRNN model is a network with five standardized input\n",
    "variables, a hidden layer with 30 processing neurons. The loss\n",
    "function is MSE and the optimizer is Adam"
   ]
  },
  {
   "cell_type": "code",
   "execution_count": 37,
   "id": "04742602",
   "metadata": {},
   "outputs": [],
   "source": [
    "model = Sequential(\n",
    "    [               \n",
    "        tf.keras.layers.GaussianKernel3(5, activation = \"linear\"),\n",
    "        tf.keras.layers.GaussianKernel3(30, activation = \"linear\"),\n",
    "        tf.keras.layers.GaussianKernel3(5, activation = \"linear\")],\n",
    "    \n",
    "    name = \"my_model\"\n",
    ")"
   ]
  },
  {
   "cell_type": "code",
   "execution_count": 38,
   "id": "bfdc60b7",
   "metadata": {},
   "outputs": [
    {
     "name": "stdout",
     "output_type": "stream",
     "text": [
      "Epoch 1/10\n",
      "166/166 [==============================] - 1s 2ms/step - loss: 66.5825\n",
      "Epoch 2/10\n",
      "166/166 [==============================] - 0s 2ms/step - loss: 64.9133\n",
      "Epoch 3/10\n",
      "166/166 [==============================] - 0s 2ms/step - loss: 64.9571\n",
      "Epoch 4/10\n",
      "166/166 [==============================] - 0s 2ms/step - loss: 64.6951\n",
      "Epoch 5/10\n",
      "166/166 [==============================] - 0s 2ms/step - loss: 64.8218\n",
      "Epoch 6/10\n",
      "166/166 [==============================] - 0s 2ms/step - loss: 65.2325\n",
      "Epoch 7/10\n",
      "166/166 [==============================] - 0s 2ms/step - loss: 65.0423\n",
      "Epoch 8/10\n",
      "166/166 [==============================] - 0s 2ms/step - loss: 65.4346\n",
      "Epoch 9/10\n",
      "166/166 [==============================] - 0s 3ms/step - loss: 65.0179\n",
      "Epoch 10/10\n",
      "166/166 [==============================] - 0s 3ms/step - loss: 64.7322\n"
     ]
    },
    {
     "data": {
      "text/plain": [
       "<keras.callbacks.History at 0x1ba94cfbd90>"
      ]
     },
     "execution_count": 38,
     "metadata": {},
     "output_type": "execute_result"
    }
   ],
   "source": [
    "model.compile(\n",
    "    loss=tf.keras.losses.MeanSquaredError(),\n",
    "    optimizer=tf.keras.optimizers.Adam(0.1),\n",
    ")\n",
    "\n",
    "model.fit(\n",
    "    X_train_scaled , y_train,\n",
    "    epochs=10\n",
    ")"
   ]
  },
  {
   "cell_type": "code",
   "execution_count": 39,
   "id": "808de715",
   "metadata": {},
   "outputs": [
    {
     "data": {
      "text/plain": [
       "(588, 5)"
      ]
     },
     "execution_count": 39,
     "metadata": {},
     "output_type": "execute_result"
    }
   ],
   "source": [
    "X_test_scaled.columns = ['pH', 'Dissolved Oxygen (mg/L)', 'Water Temperature (°C)', 'Suspended solids (mg/L)', 'Conductivity (μS/cm)']\n",
    "predictions = model.predict(X_test)\n",
    "predictions.shape\n",
    "y_test.shape\n",
    "predictions.shape"
   ]
  },
  {
   "cell_type": "code",
   "execution_count": 40,
   "id": "021bd2db",
   "metadata": {},
   "outputs": [
    {
     "data": {
      "text/plain": [
       "297791316.6372219"
      ]
     },
     "execution_count": 40,
     "metadata": {},
     "output_type": "execute_result"
    }
   ],
   "source": [
    "MSE = mean_squared_error(y_test, predictions)   # first 2 steps, combined\n",
    "MSE"
   ]
  },
  {
   "cell_type": "code",
   "execution_count": 23,
   "id": "1ed3ae70",
   "metadata": {},
   "outputs": [],
   "source": [
    "# AGRNN = GRNN(calibration=\"gradient_search\")\n",
    "# AGRNN.fit(X_train_scaled, y_train)\n",
    "# sigma = AGRNN.sigma \n",
    "# y_pred = AGRNN.predict(X_test_scaled)"
   ]
  },
  {
   "cell_type": "code",
   "execution_count": 24,
   "id": "0bb8ee16",
   "metadata": {},
   "outputs": [],
   "source": [
    "# MSE = mean_squared_error(y_test, y_pred)   # first 2 steps, combined\n",
    "# print(MSE)"
   ]
  },
  {
   "cell_type": "code",
   "execution_count": 25,
   "id": "f26a6235",
   "metadata": {},
   "outputs": [],
   "source": [
    "# print (sigma)"
   ]
  },
  {
   "cell_type": "code",
   "execution_count": null,
   "id": "d089d320",
   "metadata": {},
   "outputs": [],
   "source": []
  }
 ],
 "metadata": {
  "kernelspec": {
   "display_name": "Python 3 (ipykernel)",
   "language": "python",
   "name": "python3"
  },
  "language_info": {
   "codemirror_mode": {
    "name": "ipython",
    "version": 3
   },
   "file_extension": ".py",
   "mimetype": "text/x-python",
   "name": "python",
   "nbconvert_exporter": "python",
   "pygments_lexer": "ipython3",
   "version": "3.10.1"
  }
 },
 "nbformat": 4,
 "nbformat_minor": 5
}
